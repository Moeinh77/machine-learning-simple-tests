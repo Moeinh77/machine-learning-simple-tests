{
 "cells": [
  {
   "cell_type": "code",
   "execution_count": 11,
   "metadata": {},
   "outputs": [],
   "source": [
    "import numpy as np"
   ]
  },
  {
   "cell_type": "code",
   "execution_count": 3,
   "metadata": {},
   "outputs": [],
   "source": [
    "# our data set\n",
    "training_data = [\n",
    "    ['Sweet', 'Green', 3, 'Apple'],\n",
    "    ['Sweet', 'Green', 4, 'Apple'],\n",
    "    ['Sweet', 'Yellow', 3, 'Apple'],\n",
    "    ['Sour', 'Green', 2, 'Apple'],\n",
    "    ['Sour', 'Green', 3, 'Apple'],\n",
    "    ['Sweet', 'Purple', 1, 'Grape'],\n",
    "    ['Sweet', 'Red', 1, 'Grape'],\n",
    "    ['Sweet', 'Red', 1, 'Grape'],\n",
    "    ['Sour', 'Yellow', 3, 'Lemon'],\n",
    "    ['Sweet', 'Yellow', 3, 'Lemon'],\n",
    "    ['Sour', 'Yellow', 2, 'Lemon']\n",
    "]"
   ]
  },
  {
   "cell_type": "code",
   "execution_count": 71,
   "metadata": {},
   "outputs": [],
   "source": [
    "dataSet=np.array(training_data)"
   ]
  },
  {
   "cell_type": "code",
   "execution_count": 6,
   "metadata": {},
   "outputs": [
    {
     "name": "stdout",
     "output_type": "stream",
     "text": [
      "[['Sweet' 'Green' '3' 'Apple']\n",
      " ['Sweet' 'Green' '4' 'Apple']\n",
      " ['Sweet' 'Yellow' '3' 'Apple']\n",
      " ['Sour' 'Green' '2' 'Apple']\n",
      " ['Sour' 'Green' '3' 'Apple']\n",
      " ['Sweet' 'Purple' '1' 'Grape']\n",
      " ['Sweet' 'Red' '1' 'Grape']\n",
      " ['Sweet' 'Red' '1' 'Grape']\n",
      " ['Sour' 'Yellow' '3' 'Lemon']\n",
      " ['Sweet' 'Yellow' '3' 'Lemon']\n",
      " ['Sour' 'Yellow' '2' 'Lemon']]\n"
     ]
    }
   ],
   "source": [
    "print(dataSet)"
   ]
  },
  {
   "cell_type": "code",
   "execution_count": 72,
   "metadata": {},
   "outputs": [],
   "source": [
    "# features\n",
    "X=dataSet[:,0:3]\n",
    "# labels\n",
    "y=dataSet[:,3]"
   ]
  },
  {
   "cell_type": "code",
   "execution_count": 73,
   "metadata": {},
   "outputs": [
    {
     "name": "stdout",
     "output_type": "stream",
     "text": [
      "[['Sweet' 'Green' '3']\n",
      " ['Sweet' 'Green' '4']\n",
      " ['Sweet' 'Yellow' '3']\n",
      " ['Sour' 'Green' '2']\n",
      " ['Sour' 'Green' '3']\n",
      " ['Sweet' 'Purple' '1']\n",
      " ['Sweet' 'Red' '1']\n",
      " ['Sweet' 'Red' '1']\n",
      " ['Sour' 'Yellow' '3']\n",
      " ['Sweet' 'Yellow' '3']\n",
      " ['Sour' 'Yellow' '2']]\n"
     ]
    }
   ],
   "source": [
    "print(X)"
   ]
  },
  {
   "cell_type": "code",
   "execution_count": 12,
   "metadata": {},
   "outputs": [],
   "source": [
    "from sklearn import tree"
   ]
  },
  {
   "cell_type": "code",
   "execution_count": 13,
   "metadata": {},
   "outputs": [],
   "source": [
    "# initializing the classifier object\n",
    "DTreeClassifier = tree.DecisionTreeClassifier()\n",
    "# initializing the regresor object\n",
    "DTreeRegssor = tree.DecisionTreeRegressor()"
   ]
  },
  {
   "cell_type": "code",
   "execution_count": 88,
   "metadata": {},
   "outputs": [
    {
     "name": "stdout",
     "output_type": "stream",
     "text": [
      "[0, 0, 0, 0, 0, 1, 1, 1, 2, 2, 2]\n",
      "['Apple' 'Apple' 'Apple' 'Apple' 'Apple' 'Grape' 'Grape' 'Grape' 'Lemon'\n",
      " 'Lemon' 'Lemon']\n",
      "[[1. 0. 3.]\n",
      " [1. 0. 4.]\n",
      " [1. 3. 3.]\n",
      " [0. 0. 2.]\n",
      " [0. 0. 3.]\n",
      " [1. 1. 1.]\n",
      " [1. 2. 1.]\n",
      " [1. 2. 1.]\n",
      " [0. 3. 3.]\n",
      " [1. 3. 3.]\n",
      " [0. 3. 2.]]\n",
      "[['Sweet' 'Green' '3']\n",
      " ['Sweet' 'Green' '4']\n",
      " ['Sweet' 'Yellow' '3']\n",
      " ['Sour' 'Green' '2']\n",
      " ['Sour' 'Green' '3']\n",
      " ['Sweet' 'Purple' '1']\n",
      " ['Sweet' 'Red' '1']\n",
      " ['Sweet' 'Red' '1']\n",
      " ['Sour' 'Yellow' '3']\n",
      " ['Sweet' 'Yellow' '3']\n",
      " ['Sour' 'Yellow' '2']]\n"
     ]
    }
   ],
   "source": [
    "# Because the system noly works with float numbers \n",
    "# we have to convert string values to numbers here \n",
    "# we used the one hot encoding\n",
    "from sklearn.preprocessing import LabelBinarizer\n",
    "encoder = LabelBinarizer()\n",
    "labels_1hot=encoder.fit_transform(y)\n",
    "labels_1hot=[np.where(r==1)[0][0] for r in labels_1hot]\n",
    "\n",
    "# new trainig set with features of number type\n",
    "X_1hot=np.empty([11,3])\n",
    "\n",
    "X_1hot[:,0]=np.reshape(encoder.fit_transform(X[:,0]),(1,11))\n",
    "\n",
    "a=encoder.fit_transform(X[:,1])\n",
    "X_1hot[:,1]=[np.where(r==1)[0][0] for r in a]\n",
    "\n",
    "X_1hot[:,2]=X[:,2]\n",
    "\n",
    "print(labels_1hot)\n",
    "print(y)\n",
    "print(X_1hot)\n",
    "print(X)"
   ]
  },
  {
   "cell_type": "code",
   "execution_count": 89,
   "metadata": {},
   "outputs": [
    {
     "data": {
      "text/plain": [
       "DecisionTreeRegressor(criterion='mse', max_depth=None, max_features=None,\n",
       "           max_leaf_nodes=None, min_impurity_split=1e-07,\n",
       "           min_samples_leaf=1, min_samples_split=2,\n",
       "           min_weight_fraction_leaf=0.0, presort=False, random_state=None,\n",
       "           splitter='best')"
      ]
     },
     "execution_count": 89,
     "metadata": {},
     "output_type": "execute_result"
    }
   ],
   "source": [
    "DTreeClassifier.fit(X_1hot,labels_1hot)\n",
    "DTreeRegssor.fit(X_1hot,labels_1hot)"
   ]
  },
  {
   "cell_type": "code",
   "execution_count": 106,
   "metadata": {},
   "outputs": [],
   "source": [
    "# test sample\n",
    "X_test=[[1,0,2],[1,1,0.5],[1,2,1.8]]\n",
    "y_test=[0,1,0] # Apple Grape Apple"
   ]
  },
  {
   "cell_type": "code",
   "execution_count": 114,
   "metadata": {},
   "outputs": [],
   "source": [
    "clf_result=DTreeClassifier.predict(X_test)\n",
    "rgs_result=DTreeRegssor.predict(X_test)"
   ]
  },
  {
   "cell_type": "code",
   "execution_count": 115,
   "metadata": {},
   "outputs": [
    {
     "name": "stdout",
     "output_type": "stream",
     "text": [
      "Classifier : [0 1 0]\n",
      "Regressor : [0. 1. 1.]\n"
     ]
    }
   ],
   "source": [
    "print(\"Classifier : {}\".format(clf_result))\n",
    "print(\"Regressor : {}\".format(rgs_result))"
   ]
  },
  {
   "cell_type": "code",
   "execution_count": 116,
   "metadata": {},
   "outputs": [],
   "source": [
    "from sklearn.metrics import accuracy_score"
   ]
  },
  {
   "cell_type": "code",
   "execution_count": 117,
   "metadata": {},
   "outputs": [],
   "source": [
    "acc_clf=accuracy_score(clf_result, y_test)\n",
    "acc_reg=accuracy_score(rgs_result, y_test)"
   ]
  },
  {
   "cell_type": "code",
   "execution_count": 118,
   "metadata": {},
   "outputs": [
    {
     "name": "stdout",
     "output_type": "stream",
     "text": [
      "Classifier accuracy : 1.0\n",
      "Regressor accuracy : 0.6666666666666666\n"
     ]
    }
   ],
   "source": [
    "print(\"Classifier accuracy : {}\".format(acc_clf))\n",
    "print(\"Regressor accuracy : {}\".format(acc_reg))"
   ]
  },
  {
   "cell_type": "markdown",
   "metadata": {},
   "source": [
    "# classifier is probably overfitting the training set"
   ]
  },
  {
   "cell_type": "code",
   "execution_count": null,
   "metadata": {},
   "outputs": [],
   "source": []
  }
 ],
 "metadata": {
  "kernelspec": {
   "display_name": "Python 3",
   "language": "python",
   "name": "python3"
  },
  "language_info": {
   "codemirror_mode": {
    "name": "ipython",
    "version": 3
   },
   "file_extension": ".py",
   "mimetype": "text/x-python",
   "name": "python",
   "nbconvert_exporter": "python",
   "pygments_lexer": "ipython3",
   "version": "3.6.6"
  }
 },
 "nbformat": 4,
 "nbformat_minor": 2
}

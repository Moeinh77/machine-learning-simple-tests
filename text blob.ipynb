{
 "cells": [
  {
   "cell_type": "code",
   "execution_count": 7,
   "metadata": {},
   "outputs": [],
   "source": [
    "from textblob import TextBlob as tb\n",
    "import pandas as pd"
   ]
  },
  {
   "cell_type": "code",
   "execution_count": 59,
   "metadata": {},
   "outputs": [],
   "source": [
    "#Load the data into a DataFrame\n",
    "test = pd.read_csv('data/test.csv', encoding='latin-1')"
   ]
  },
  {
   "cell_type": "code",
   "execution_count": 61,
   "metadata": {
    "scrolled": true
   },
   "outputs": [],
   "source": [
    "#test.head()\n",
    "mtest=test.loc[10:20].SentimentText"
   ]
  },
  {
   "cell_type": "code",
   "execution_count": 62,
   "metadata": {},
   "outputs": [
    {
     "name": "stdout",
     "output_type": "stream",
     "text": [
      "10                        I must think about positive..\n",
      "11          thanks to all the haters up in my face a...\n",
      "12                       this weekend has sucked so far\n",
      "13               jb isnt showing in australia any more!\n",
      "14                                 ok thats it you win.\n",
      "15        &lt;-------- This is the way i feel right ...\n",
      "16        awhhe man.... I'm completely useless rt no...\n",
      "17        Feeling strangely fine. Now I'm gonna go l...\n",
      "18         HUGE roll of thunder just now...SO scary!!!!\n",
      "19        I just cut my beard off. It's only been gr...\n",
      "20                                 Very sad about Iran.\n",
      "Name: SentimentText, dtype: object\n"
     ]
    }
   ],
   "source": [
    "print(mtest)"
   ]
  },
  {
   "cell_type": "code",
   "execution_count": 68,
   "metadata": {},
   "outputs": [],
   "source": [
    "# function to calculate sentiments based on TextBlob\n",
    "def sentiment_calc(text):\n",
    "    try:\n",
    "        return TextBlob(text).sentiment\n",
    "    except:\n",
    "        return None"
   ]
  },
  {
   "cell_type": "markdown",
   "metadata": {},
   "source": [
    "### Polarty -1 is saddest and +1 is happiest\n",
    "### subjectivity 1 if there is a subject 0 if there has been an object of some kind "
   ]
  },
  {
   "cell_type": "code",
   "execution_count": 69,
   "metadata": {},
   "outputs": [
    {
     "name": "stdout",
     "output_type": "stream",
     "text": [
      "Sentiment(polarity=0.8, subjectivity=1.0)\n",
      "Sentiment(polarity=-0.5, subjectivity=1.0)\n",
      "Sentiment(polarity=0.5, subjectivity=1.0)\n",
      "Sentiment(polarity=-0.75, subjectivity=1.0)\n",
      "Sentiment(polarity=-0.25, subjectivity=0.0)\n",
      "Sentiment(polarity=-0.75, subjectivity=0.9)\n",
      "Sentiment(polarity=0.0, subjectivity=0.0)\n"
     ]
    }
   ],
   "source": [
    "print(sentiment_calc(\"i'm happy\"))\n",
    "print(sentiment_calc(\"i'm sad\"))\n",
    "print(sentiment_calc(\":)\"))\n",
    "print(sentiment_calc(\":(\"))\n",
    "print(sentiment_calc(\"the guy has been killed !\"))\n",
    "## it means someone/thing made her unhappy\n",
    "print(sentiment_calc(\"she has been unhappy during pas couple of days !\"))\n",
    "# a sentimentaly neutral sentence\n",
    "print(sentiment_calc(\"nothing\"))"
   ]
  },
  {
   "cell_type": "code",
   "execution_count": 72,
   "metadata": {},
   "outputs": [
    {
     "name": "stdout",
     "output_type": "stream",
     "text": [
      "result from mtest : \n",
      "\n",
      "\n",
      " 10    (0.22727272727272727, 0.5454545454545454)\n",
      "11                                  (0.25, 0.2)\n",
      "12                                   (0.1, 1.0)\n",
      "13                                 (0.625, 0.5)\n",
      "14                                 (0.65, 0.45)\n",
      "15     (0.2857142857142857, 0.5357142857142857)\n",
      "16                                (-0.125, 0.6)\n",
      "17                    (0.4166666666666667, 0.5)\n",
      "18                 (-0.29999999999999993, 0.95)\n",
      "19                                   (0.4, 1.0)\n",
      "20                                 (-0.65, 1.0)\n",
      "Name: SentimentText, dtype: object\n"
     ]
    }
   ],
   "source": [
    "sentimentResult = mtest.apply(sentiment_calc)\n",
    "print(\"result from mtest : \\n\\n\\n\",sentimentResult)"
   ]
  }
 ],
 "metadata": {
  "kernelspec": {
   "display_name": "Python 3",
   "language": "python",
   "name": "python3"
  },
  "language_info": {
   "codemirror_mode": {
    "name": "ipython",
    "version": 3
   },
   "file_extension": ".py",
   "mimetype": "text/x-python",
   "name": "python",
   "nbconvert_exporter": "python",
   "pygments_lexer": "ipython3",
   "version": "3.6.6"
  }
 },
 "nbformat": 4,
 "nbformat_minor": 2
}
